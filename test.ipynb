{
 "cells": [
  {
   "cell_type": "code",
   "execution_count": 1,
   "metadata": {},
   "outputs": [
    {
     "name": "stdout",
     "output_type": "stream",
     "text": [
      "The file has 14 lines in total.\n",
      "The content has been truncated. Lines from 1 to 100 have been returned as below:\n",
      "\n",
      "```\n",
      "# Copyright (c) 2025 Bytedance Ltd. and/or its affiliates\n",
      "# SPDX-License-Identifier: MIT\n",
      "\n",
      "from src.config.tools import SELECTED_RAG_PROVIDER, RAGProvider\n",
      "from src.rag.ragflow import RAGFlowProvider\n",
      "from src.rag.retriever import Retriever\n",
      "\n",
      "\n",
      "def build_retriever() -> Retriever | None:\n",
      "    if SELECTED_RAG_PROVIDER == RAGProvider.RAGFLOW.value:\n",
      "        return RAGFlowProvider()\n",
      "    elif SELECTED_RAG_PROVIDER:\n",
      "        raise ValueError(f\"Unsupported RAG provider: {SELECTED_RAG_PROVIDER}\")\n",
      "    return None\n",
      "\n",
      "```\n",
      "\n",
      "\n",
      "> Call `react()` immediately to save your findings to the notepad. Then mark finished items as done and draft your follow-up items if applicable.\n"
     ]
    }
   ],
   "source": [
    "from src.agentic.agents.state import create_initial_state\n",
    "from src.agentic.tools import file_tree, read_file\n",
    "from src.workspace.project import Project\n",
    "\n",
    "project = Project(work_dir=\"/Users/henry/workspaces/bytedance/deer-flow\")\n",
    "initial_state = create_initial_state(project)\n",
    "\n",
    "res = read_file.invoke(\n",
    "    {\n",
    "        \"path\": \"./src/rag/builder.py\",\n",
    "        \"from_line\": 1,\n",
    "        \"to_line\": 100,\n",
    "        \"state\": initial_state,\n",
    "    }\n",
    ")\n",
    "print(res)"
   ]
  },
  {
   "cell_type": "code",
   "execution_count": 6,
   "metadata": {},
   "outputs": [
    {
     "name": "stdout",
     "output_type": "stream",
     "text": [
      "{'todo_list': TodoList(items=[TodoItem(id=1, title='add a new feature to the project', is_done=False)], id_counter=1), 'notepad': Notepad(notes=[Note(content='add a new feature to the project')]), 'messages': [ToolMessage(content='Done', tool_call_id='123'), HumanMessage(content='# Notepad\\n\\nadd a new feature to the project', additional_kwargs={}, response_metadata={}, id='notepad'), HumanMessage(content='# Todo List\\n\\n- [ ] #1: add a new feature to the project\\n\\n> Never ever forget to call the `mark_todo_as_done()` tool to update the status.', additional_kwargs={}, response_metadata={}, id='todo_list')]}\n",
      "{'todo_list': TodoList(items=[TodoItem(id=1, title='add a new feature to the project', is_done=True), TodoItem(id=2, title='add a new feature to the project', is_done=False)], id_counter=2), 'notepad': Notepad(notes=[Note(content='add a new feature to the project'), Note(content='add a new feature to the project')]), 'messages': [ToolMessage(content='Done', tool_call_id='123'), HumanMessage(content='# Notepad\\n\\nadd a new feature to the project\\n\\nadd a new feature to the project', additional_kwargs={}, response_metadata={}, id='notepad'), HumanMessage(content='# Todo List\\n\\n- [x] #1: add a new feature to the project\\n- [ ] #2: add a new feature to the project\\n\\n> Never ever forget to call the `mark_todo_as_done()` tool to update the status.', additional_kwargs={}, response_metadata={}, id='todo_list')]}\n"
     ]
    }
   ],
   "source": [
    "import json\n",
    "from langgraph.types import Command\n",
    "\n",
    "from src.agentic.agents.state import create_initial_state\n",
    "from src.agentic.tools import react\n",
    "from src.workspace.project import Project\n",
    "\n",
    "project = Project(work_dir=\"/Users/henry/workspaces/bytedance/deer-flow\")\n",
    "initial_state = create_initial_state(project)\n",
    "\n",
    "command = react.invoke(\n",
    "    {\n",
    "        \"thoughts\": \"I need to add a new feature to the project\",\n",
    "        \"add_note\": \"add a new feature to the project\",\n",
    "        \"add_todo\": [\"add a new feature to the project\"],\n",
    "        \"mark_todo_as_done\": [],\n",
    "        \"state\": initial_state,\n",
    "        \"tool_call_id\": \"123\",\n",
    "    }\n",
    ")\n",
    "print(command.update)\n",
    "\n",
    "command = react.invoke(\n",
    "    {\n",
    "        \"thoughts\": \"I need to add a new feature to the project\",\n",
    "        \"add_note\": \"add a new feature to the project\",\n",
    "        \"add_todo\": [\"add a new feature to the project\"],\n",
    "        \"mark_todo_as_done\": [1],\n",
    "        \"state\": initial_state,\n",
    "        \"tool_call_id\": \"123\",\n",
    "    }\n",
    ")\n",
    "print(command.update)"
   ]
  }
 ],
 "metadata": {
  "kernelspec": {
   "display_name": ".venv",
   "language": "python",
   "name": "python3"
  },
  "language_info": {
   "codemirror_mode": {
    "name": "ipython",
    "version": 3
   },
   "file_extension": ".py",
   "mimetype": "text/x-python",
   "name": "python",
   "nbconvert_exporter": "python",
   "pygments_lexer": "ipython3",
   "version": "3.12.4"
  }
 },
 "nbformat": 4,
 "nbformat_minor": 2
}
