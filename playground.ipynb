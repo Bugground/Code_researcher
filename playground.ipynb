{
 "cells": [
  {
   "cell_type": "code",
   "execution_count": 3,
   "metadata": {},
   "outputs": [
    {
     "name": "stdout",
     "output_type": "stream",
     "text": [
      "code-play/\n",
      "├── .gitignore\n",
      "├── .python-version\n",
      "├── Makefile\n",
      "├── README.md\n",
      "├── langgraph.json\n",
      "├── main.py\n",
      "├── playground.ipynb\n",
      "├── pyproject.toml\n",
      "├── src/\n",
      "│   ├── agentic/\n",
      "│   │   ├── agents/\n",
      "│   │   │   └── researcher.py\n",
      "│   │   ├── models/\n",
      "│   │   │   ├── __init__.py\n",
      "│   │   │   └── chat_model.py\n",
      "│   │   └── tools/\n",
      "│   │       ├── __init__.py\n",
      "│   │       └── project_tools.py\n",
      "│   └── workspace/\n",
      "│       ├── __init__.py\n",
      "│       ├── code/\n",
      "│       │   ├── __init__.py\n",
      "│       │   └── code_outline.py\n",
      "│       ├── fs/\n",
      "│       │   ├── __init__.py\n",
      "│       │   ├── file_tree.py\n",
      "│       │   ├── ignore_rules.py\n",
      "│       │   └── read_file.py\n",
      "│       ├── notepad/\n",
      "│       │   ├── __init__.py\n",
      "│       │   └── notepad.py\n",
      "│       ├── project/\n",
      "│       │   ├── __init__.py\n",
      "│       │   └── project.py\n",
      "│       ├── search/\n",
      "│       │   ├── __init__.py\n",
      "│       │   ├── search_in_file.py\n",
      "│       │   └── search_in_folders.py\n",
      "│       └── todo/\n",
      "└── uv.lock\n"
     ]
    }
   ],
   "source": [
    "from src.workspace import Project\n",
    "\n",
    "project = Project(\"/Users/henry/Desktop/code-play\")\n",
    "print(project.file_tree())"
   ]
  },
  {
   "cell_type": "code",
   "execution_count": 4,
   "metadata": {},
   "outputs": [
    {
     "name": "stdout",
     "output_type": "stream",
     "text": [
      "Line 10: from src.workspace.search import search_in_file, search_in_folders\n",
      "Line 37:     def search_in_folders(\n",
      "Line 43:         results = search_in_folders(\n",
      "Line 50:             return \"No search result found\"\n",
      "Line 58:     def search_in_file(self, keyword: str, file: str) -> str:\n",
      "Line 59:         result = search_in_file(keyword, self.map_path(file))\n",
      "Line 61:             return \"No search result found\"\n",
      "\n"
     ]
    }
   ],
   "source": [
    "content = project.search_in_file(\"search\", \"src/workspace/project/project.py\")\n",
    "print(content)"
   ]
  },
  {
   "cell_type": "code",
   "execution_count": 5,
   "metadata": {},
   "outputs": [
    {
     "name": "stdout",
     "output_type": "stream",
     "text": [
      "File \"././src/workspace/search/search_in_folders.py\", line 5: from src.workspace.search import FileSearchResult, search_in_file\n",
      "File \"././src/workspace/search/search_in_folders.py\", line 8: def search_in_folders(\n",
      "File \"././src/workspace/search/search_in_folders.py\", line 13: ) -> list[FileSearchResult]:\n",
      "File \"././src/workspace/search/search_in_folders.py\", line 22:     results: list[FileSearchResult] = []\n",
      "File \"././src/workspace/search/search_in_folders.py\", line 25:         return any(regex.search(file_name) for regex in file_extension_regex)\n",
      "File \"././src/workspace/search/search_in_folders.py\", line 30:     def search_in_folder_recursive(folder: str):\n",
      "File \"././src/workspace/search/search_in_folders.py\", line 31:         \"\"\"Recursively search for matching files in the folder.\"\"\"\n",
      "File \"././src/workspace/search/search_in_folders.py\", line 45:                 # Recursively search in subdirectories\n",
      "File \"././src/workspace/search/search_in_folders.py\", line 46:                 search_in_folder_recursive(full_path)\n",
      "File \"././src/workspace/search/search_in_folders.py\", line 48:                 # Search in files\n",
      "File \"././src/workspace/search/search_in_folders.py\", line 49:                 result = search_in_file(query, full_path)\n",
      "File \"././src/workspace/search/search_in_folders.py\", line 53:     # Search in each folder\n",
      "File \"././src/workspace/search/search_in_folders.py\", line 56:             search_in_folder_recursive(folder)\n",
      "\n",
      "File \"././src/workspace/search/__init__.py\", line 1: from .search_in_file import FileSearchResult, FileSearchResultLine, search_in_file\n",
      "File \"././src/workspace/search/__init__.py\", line 2: from .search_in_folders import search_in_folders\n",
      "File \"././src/workspace/search/__init__.py\", line 5:     \"FileSearchResult\",\n",
      "File \"././src/workspace/search/__init__.py\", line 6:     \"FileSearchResultLine\",\n",
      "File \"././src/workspace/search/__init__.py\", line 7:     \"search_in_file\",\n",
      "File \"././src/workspace/search/__init__.py\", line 8:     \"search_in_folders\",\n",
      "\n",
      "File \"././src/workspace/search/search_in_file.py\", line 6: class FileSearchResultLine(BaseModel):\n",
      "File \"././src/workspace/search/search_in_file.py\", line 11: class FileSearchResult(BaseModel):\n",
      "File \"././src/workspace/search/search_in_file.py\", line 13:     lines: list[FileSearchResultLine]\n",
      "File \"././src/workspace/search/search_in_file.py\", line 16: def search_in_file(query: str | re.Pattern, file: str) -> FileSearchResult | None:\n",
      "File \"././src/workspace/search/search_in_file.py\", line 32:             match = query.search(line)\n",
      "File \"././src/workspace/search/search_in_file.py\", line 36:                 FileSearchResultLine(line_number=i + 1, context=line.rstrip())\n",
      "File \"././src/workspace/search/search_in_file.py\", line 40:         return FileSearchResult(file_path=file, lines=result_lines)\n",
      "\n",
      "File \"././src/workspace/project/project.py\", line 10: from src.workspace.search import search_in_file, search_in_folders\n",
      "File \"././src/workspace/project/project.py\", line 37:     def search_in_folders(\n",
      "File \"././src/workspace/project/project.py\", line 43:         results = search_in_folders(\n",
      "File \"././src/workspace/project/project.py\", line 50:             return \"No search result found\"\n",
      "File \"././src/workspace/project/project.py\", line 58:     def search_in_file(self, keyword: str, file: str) -> str:\n",
      "File \"././src/workspace/project/project.py\", line 59:         result = search_in_file(keyword, self.map_path(file))\n",
      "File \"././src/workspace/project/project.py\", line 61:             return \"No search result found\"\n",
      "\n",
      "File \"././src/agentic/tools/project_tools.py\", line 40: class SearchInFoldersArgs(BaseModel):\n",
      "File \"././src/agentic/tools/project_tools.py\", line 43:     The keyword to search for. Case-insensitive.\n",
      "File \"././src/agentic/tools/project_tools.py\", line 44:     \"abc bcd\" means to search for lines exactly contains \"abc bcd\".\n",
      "File \"././src/agentic/tools/project_tools.py\", line 49:     The folders to search in.\n",
      "File \"././src/agentic/tools/project_tools.py\", line 54:     The file extensions to search in. e.g. `[\"py\", \"md\", \"ts\". \"tsx\"]`.\n",
      "File \"././src/agentic/tools/project_tools.py\", line 59: class SearchInFileArgs(BaseModel):\n",
      "File \"././src/agentic/tools/project_tools.py\", line 62:     The keyword to search for. Case-insensitive.\n",
      "File \"././src/agentic/tools/project_tools.py\", line 63:     \"abc bcd\" means search for files exactly contains \"abc bcd\".\n",
      "File \"././src/agentic/tools/project_tools.py\", line 67:     The path to the file to search in.\n",
      "File \"././src/agentic/tools/project_tools.py\", line 86:             name=\"search_in_folders\",\n",
      "File \"././src/agentic/tools/project_tools.py\", line 87:             func=project.search_in_folders,\n",
      "File \"././src/agentic/tools/project_tools.py\", line 88:             description=\"Search keyword in specific folders.\",\n",
      "File \"././src/agentic/tools/project_tools.py\", line 89:             args_schema=SearchInFoldersArgs,\n",
      "File \"././src/agentic/tools/project_tools.py\", line 92:             name=\"search_in_file\",\n",
      "File \"././src/agentic/tools/project_tools.py\", line 93:             func=project.search_in_file,\n",
      "File \"././src/agentic/tools/project_tools.py\", line 94:             description=\"Search keyword in a specific file.\",\n",
      "File \"././src/agentic/tools/project_tools.py\", line 95:             args_schema=SearchInFileArgs,\n",
      "\n",
      "File \"././src/agentic/agents/researcher.py\", line 8: def create_researcher(project: Project):\n",
      "File \"././src/agentic/agents/researcher.py\", line 11:         name=\"researcher\",\n",
      "File \"././src/agentic/agents/researcher.py\", line 14:         prompt=\"You are a research agent. You are given a project and you need to research the project and answer the question using the tools provided.\",\n",
      "File \"././src/agentic/agents/researcher.py\", line 19: researcher = create_researcher(Project(\"/Users/henry/Desktop/code-play\"))\n",
      "\n",
      "File \"././src/agentic/models/chat_model.py\", line 19:         base_url=\"https://search.bytedance.net/gpt/openapi/online/v2/crawl/openai/deployments\",\n",
      "\n",
      "\n"
     ]
    }
   ],
   "source": [
    "search_result = project.search_in_folders(\n",
    "    \"search\",\n",
    "    [\"./src\"],\n",
    "    [\"py\"],\n",
    ")\n",
    "print(search_result)"
   ]
  },
  {
   "cell_type": "code",
   "execution_count": 6,
   "metadata": {},
   "outputs": [
    {
     "name": "stdout",
     "output_type": "stream",
     "text": [
      "Class: Project, line_range=[13, 80]\n",
      "  Method: __init__, line_range=[16, 18]\n",
      "  Method: map_path, line_range=[20, 21]\n",
      "  Method: rel_path, line_range=[23, 26]\n",
      "  Method: file_tree, line_range=[28, 29]\n",
      "  Method: file_outline, line_range=[31, 35]\n",
      "  Method: search_in_folders, line_range=[37, 56]\n",
      "  Method: search_in_file, line_range=[58, 65]\n",
      "  Method: read_file, line_range=[67, 80]\n"
     ]
    }
   ],
   "source": [
    "outline = project.file_outline(\"./src/workspace/project/project.py\")\n",
    "print(outline)"
   ]
  },
  {
   "cell_type": "code",
   "execution_count": 7,
   "metadata": {},
   "outputs": [
    {
     "name": "stdout",
     "output_type": "stream",
     "text": [
      "    def search_in_file(self, keyword: str, file: str) -> str:\n",
      "        result = search_in_file(keyword, self.map_path(file))\n",
      "        if result is None:\n",
      "            return \"No search result found\"\n",
      "        result_str = \"\"\n",
      "        for line in result.lines:\n",
      "            result_str += f\"Line {line.line_number}: {line.context}\\n\"\n",
      "        return result_str\n",
      "\n"
     ]
    }
   ],
   "source": [
    "content = project.read_file(\"./src/workspace/project/project.py\", 58, 65)\n",
    "print(content)"
   ]
  },
  {
   "cell_type": "code",
   "execution_count": 8,
   "metadata": {},
   "outputs": [
    {
     "name": "stdout",
     "output_type": "stream",
     "text": [
      "{\n",
      "  \"content\": \"\",\n",
      "  \"additional_kwargs\": {\n",
      "    \"tool_calls\": [\n",
      "      {\n",
      "        \"id\": \"call_uOm9vlAV6OeJr0tqHIDrJ5Em\",\n",
      "        \"function\": {\n",
      "          \"arguments\": \"{\\\"path\\\":\\\"src/workspace/project.py\\\",\\\"from_line\\\":1,\\\"to_line\\\":10}\",\n",
      "          \"name\": \"read_file\"\n",
      "        },\n",
      "        \"type\": \"function\",\n",
      "        \"index\": 0\n",
      "      }\n",
      "    ],\n",
      "    \"refusal\": null\n",
      "  },\n",
      "  \"response_metadata\": {\n",
      "    \"token_usage\": {\n",
      "      \"completion_tokens\": 29,\n",
      "      \"prompt_tokens\": 105,\n",
      "      \"total_tokens\": 134,\n",
      "      \"completion_tokens_details\": {\n",
      "        \"accepted_prediction_tokens\": null,\n",
      "        \"audio_tokens\": 0,\n",
      "        \"reasoning_tokens\": 0,\n",
      "        \"rejected_prediction_tokens\": null\n",
      "      },\n",
      "      \"prompt_tokens_details\": {\n",
      "        \"audio_tokens\": 0,\n",
      "        \"cached_tokens\": 0\n",
      "      }\n",
      "    },\n",
      "    \"model_name\": \"gpt-4o-2024-11-20\",\n",
      "    \"system_fingerprint\": \"fp_ee1d74bde0\",\n",
      "    \"id\": \"chatcmpl-Bt8WGZUM8tOZ0NFhCdPSsWthuyLQw\",\n",
      "    \"service_tier\": null,\n",
      "    \"finish_reason\": \"tool_calls\",\n",
      "    \"logprobs\": null\n",
      "  },\n",
      "  \"type\": \"ai\",\n",
      "  \"name\": null,\n",
      "  \"id\": \"run--cf6acbc5-2802-4449-91b6-faf64ff9584f-0\",\n",
      "  \"example\": false,\n",
      "  \"tool_calls\": [\n",
      "    {\n",
      "      \"name\": \"read_file\",\n",
      "      \"args\": {\n",
      "        \"path\": \"src/workspace/project.py\",\n",
      "        \"from_line\": 1,\n",
      "        \"to_line\": 10\n",
      "      },\n",
      "      \"id\": \"call_uOm9vlAV6OeJr0tqHIDrJ5Em\",\n",
      "      \"type\": \"tool_call\"\n",
      "    }\n",
      "  ],\n",
      "  \"invalid_tool_calls\": [],\n",
      "  \"usage_metadata\": {\n",
      "    \"input_tokens\": 105,\n",
      "    \"output_tokens\": 29,\n",
      "    \"total_tokens\": 134,\n",
      "    \"input_token_details\": {\n",
      "      \"audio\": 0,\n",
      "      \"cache_read\": 0\n",
      "    },\n",
      "    \"output_token_details\": {\n",
      "      \"audio\": 0,\n",
      "      \"reasoning\": 0\n",
      "    }\n",
      "  }\n",
      "}\n"
     ]
    }
   ],
   "source": [
    "from src.llm.models import create_chat_model\n",
    "from src.agentic.tools import create_project_tools\n",
    "\n",
    "model = create_chat_model()\n",
    "tools = create_project_tools(project)\n",
    "\n",
    "model = model.bind_tools([tools[4]])\n",
    "res = model.invoke(\n",
    "    \"Get the content of `src/workspace/project.py`, only the first 10 lines\"\n",
    ")\n",
    "print(res.model_dump_json(indent=2))"
   ]
  }
 ],
 "metadata": {
  "kernelspec": {
   "display_name": ".venv",
   "language": "python",
   "name": "python3"
  },
  "language_info": {
   "codemirror_mode": {
    "name": "ipython",
    "version": 3
   },
   "file_extension": ".py",
   "mimetype": "text/x-python",
   "name": "python",
   "nbconvert_exporter": "python",
   "pygments_lexer": "ipython3",
   "version": "3.12.4"
  }
 },
 "nbformat": 4,
 "nbformat_minor": 2
}
