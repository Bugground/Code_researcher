{
 "cells": [
  {
   "cell_type": "code",
   "execution_count": 1,
   "metadata": {},
   "outputs": [
    {
     "name": "stdout",
     "output_type": "stream",
     "text": [
      "code-play/\n",
      "├── .gitignore\n",
      "├── .python-version\n",
      "├── README.md\n",
      "├── main.py\n",
      "├── playground.ipynb\n",
      "├── pyproject.toml\n",
      "├── src/\n",
      "│   ├── core/\n",
      "│   │   ├── code/\n",
      "│   │   │   ├── __init__.py\n",
      "│   │   │   └── outline.py\n",
      "│   │   ├── fs/\n",
      "│   │   │   ├── __init__.py\n",
      "│   │   │   ├── file_tree.py\n",
      "│   │   │   ├── ignore_rules.py\n",
      "│   │   │   └── read_file.py\n",
      "│   │   ├── search/\n",
      "│   │   │   ├── __init__.py\n",
      "│   │   │   ├── search_in_file.py\n",
      "│   │   │   └── search_in_folders.py\n",
      "│   │   └── workspace.py\n",
      "│   └── tools/\n",
      "└── uv.lock\n"
     ]
    }
   ],
   "source": [
    "from src.core.workspace import Workspace\n",
    "\n",
    "workspace = Workspace(\"/Users/henry/Desktop/code-play\")\n",
    "print(workspace.file_tree())"
   ]
  },
  {
   "cell_type": "code",
   "execution_count": 2,
   "metadata": {},
   "outputs": [
    {
     "name": "stdout",
     "output_type": "stream",
     "text": [
      "Line 10: from src.core.search import search_in_file, search_in_folders\n",
      "Line 37:     def search_in_folders(\n",
      "Line 43:         results = search_in_folders(\n",
      "Line 50:             return \"No search result found\"\n",
      "Line 58:     def search_in_file(self, keyword: str, file: str) -> str:\n",
      "Line 59:         result = search_in_file(keyword, self.map_path(file))\n",
      "Line 61:             return \"No search result found\"\n",
      "Line 70:     search_result = workspace.search_in_folders(\n",
      "Line 71:         \"search\",\n",
      "Line 75:     print(search_result)\n",
      "\n"
     ]
    }
   ],
   "source": [
    "content = workspace.search_in_file(\"search\", \"src/core/workspace.py\")\n",
    "print(content)"
   ]
  },
  {
   "cell_type": "code",
   "execution_count": 3,
   "metadata": {},
   "outputs": [
    {
     "name": "stdout",
     "output_type": "stream",
     "text": [
      "File \"././src/core/search/search_in_folders.py\", line 5: from src.core.search import FileSearchResult, search_in_file\n",
      "File \"././src/core/search/search_in_folders.py\", line 8: def search_in_folders(\n",
      "File \"././src/core/search/search_in_folders.py\", line 13: ) -> list[FileSearchResult]:\n",
      "File \"././src/core/search/search_in_folders.py\", line 22:     results: list[FileSearchResult] = []\n",
      "File \"././src/core/search/search_in_folders.py\", line 25:         return any(regex.search(file_name) for regex in file_extension_regex)\n",
      "File \"././src/core/search/search_in_folders.py\", line 30:     def search_in_folder_recursive(folder: str):\n",
      "File \"././src/core/search/search_in_folders.py\", line 31:         \"\"\"Recursively search for matching files in the folder.\"\"\"\n",
      "File \"././src/core/search/search_in_folders.py\", line 45:                 # Recursively search in subdirectories\n",
      "File \"././src/core/search/search_in_folders.py\", line 46:                 search_in_folder_recursive(full_path)\n",
      "File \"././src/core/search/search_in_folders.py\", line 48:                 # Search in files\n",
      "File \"././src/core/search/search_in_folders.py\", line 49:                 result = search_in_file(query, full_path)\n",
      "File \"././src/core/search/search_in_folders.py\", line 53:     # Search in each folder\n",
      "File \"././src/core/search/search_in_folders.py\", line 56:             search_in_folder_recursive(folder)\n",
      "\n",
      "File \"././src/core/search/__init__.py\", line 1: from .search_in_file import FileSearchResult, FileSearchResultLine, search_in_file\n",
      "File \"././src/core/search/__init__.py\", line 2: from .search_in_folders import search_in_folders\n",
      "File \"././src/core/search/__init__.py\", line 5:     \"FileSearchResult\",\n",
      "File \"././src/core/search/__init__.py\", line 6:     \"FileSearchResultLine\",\n",
      "File \"././src/core/search/__init__.py\", line 7:     \"search_in_file\",\n",
      "File \"././src/core/search/__init__.py\", line 8:     \"search_in_folders\",\n",
      "\n",
      "File \"././src/core/search/search_in_file.py\", line 6: class FileSearchResultLine(BaseModel):\n",
      "File \"././src/core/search/search_in_file.py\", line 11: class FileSearchResult(BaseModel):\n",
      "File \"././src/core/search/search_in_file.py\", line 13:     lines: list[FileSearchResultLine]\n",
      "File \"././src/core/search/search_in_file.py\", line 16: def search_in_file(query: str | re.Pattern, file: str) -> FileSearchResult | None:\n",
      "File \"././src/core/search/search_in_file.py\", line 32:             match = query.search(line)\n",
      "File \"././src/core/search/search_in_file.py\", line 36:                 FileSearchResultLine(line_number=i + 1, context=line.rstrip())\n",
      "File \"././src/core/search/search_in_file.py\", line 40:         return FileSearchResult(file_path=file, lines=result_lines)\n",
      "\n",
      "File \"././src/core/workspace.py\", line 10: from src.core.search import search_in_file, search_in_folders\n",
      "File \"././src/core/workspace.py\", line 37:     def search_in_folders(\n",
      "File \"././src/core/workspace.py\", line 43:         results = search_in_folders(\n",
      "File \"././src/core/workspace.py\", line 50:             return \"No search result found\"\n",
      "File \"././src/core/workspace.py\", line 58:     def search_in_file(self, keyword: str, file: str) -> str:\n",
      "File \"././src/core/workspace.py\", line 59:         result = search_in_file(keyword, self.map_path(file))\n",
      "File \"././src/core/workspace.py\", line 61:             return \"No search result found\"\n",
      "File \"././src/core/workspace.py\", line 70:     search_result = workspace.search_in_folders(\n",
      "File \"././src/core/workspace.py\", line 71:         \"search\",\n",
      "File \"././src/core/workspace.py\", line 75:     print(search_result)\n",
      "\n",
      "\n"
     ]
    }
   ],
   "source": [
    "search_result = workspace.search_in_folders(\n",
    "    \"search\",\n",
    "    [\"./src\"],\n",
    "    [\"py\"],\n",
    ")\n",
    "print(search_result)"
   ]
  },
  {
   "cell_type": "code",
   "execution_count": 4,
   "metadata": {},
   "outputs": [
    {
     "name": "stdout",
     "output_type": "stream",
     "text": [
      "Class: Workspace, line_range=[13, 65]\n",
      "  Method: __init__, line_range=[16, 18]\n",
      "  Method: map_path, line_range=[20, 21]\n",
      "  Method: rel_path, line_range=[23, 26]\n",
      "  Method: read_file, line_range=[28, 29]\n",
      "  Method: file_tree, line_range=[31, 32]\n",
      "  Method: outline_of_file, line_range=[34, 35]\n",
      "  Method: search_in_folders, line_range=[37, 56]\n",
      "  Method: search_in_file, line_range=[58, 65]\n"
     ]
    }
   ],
   "source": [
    "outline = workspace.outline_of_file(\"./src/core/workspace.py\")\n",
    "print(outline)"
   ]
  },
  {
   "cell_type": "code",
   "execution_count": 5,
   "metadata": {},
   "outputs": [
    {
     "name": "stdout",
     "output_type": "stream",
     "text": [
      "    def search_in_file(self, keyword: str, file: str) -> str:\n",
      "        result = search_in_file(keyword, self.map_path(file))\n",
      "        if result is None:\n",
      "            return \"No search result found\"\n",
      "        result_str = \"\"\n",
      "        for line in result.lines:\n",
      "            result_str += f\"Line {line.line_number}: {line.context}\\n\"\n",
      "        return result_str\n",
      "\n"
     ]
    }
   ],
   "source": [
    "content = workspace.read_file(\"./src/core/workspace.py\", [58, 65])\n",
    "print(content)"
   ]
  }
 ],
 "metadata": {
  "kernelspec": {
   "display_name": ".venv",
   "language": "python",
   "name": "python3"
  },
  "language_info": {
   "codemirror_mode": {
    "name": "ipython",
    "version": 3
   },
   "file_extension": ".py",
   "mimetype": "text/x-python",
   "name": "python",
   "nbconvert_exporter": "python",
   "pygments_lexer": "ipython3",
   "version": "3.12.4"
  }
 },
 "nbformat": 4,
 "nbformat_minor": 2
}
