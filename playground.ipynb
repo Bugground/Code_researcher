{
 "cells": [
  {
   "cell_type": "code",
   "execution_count": 2,
   "metadata": {},
   "outputs": [
    {
     "name": "stdout",
     "output_type": "stream",
     "text": [
      "components/\n",
      "├── deer-flow/\n",
      "├── editor/\n",
      "├── magicui/\n",
      "├── theme-provider.tsx\n",
      "└── ui/\n"
     ]
    }
   ],
   "source": [
    "from src.workspace import Project\n",
    "\n",
    "project = Project(work_dir=\"/Users/henry/workspaces/bytedance/deer-flow\")\n",
    "print(project.file_tree(\"./web/src/components\", 1))"
   ]
  },
  {
   "cell_type": "code",
   "execution_count": 3,
   "metadata": {},
   "outputs": [
    {
     "name": "stdout",
     "output_type": "stream",
     "text": [
      "Line 12: from src.workspace.search import search_in_file, search_in_folders\n",
      "Line 37:     def search_in_folders(\n",
      "Line 43:         results = search_in_folders(\n",
      "Line 50:             return \"No search result found\"\n",
      "Line 58:     def search_in_file(self, keyword: str, file: str) -> str:\n",
      "Line 59:         result = search_in_file(keyword, self.map_path(file))\n",
      "Line 61:             return \"No search result found\"\n",
      "\n"
     ]
    }
   ],
   "source": [
    "content = project.search_in_file(\"search\", \"src/workspace/project/project.py\")\n",
    "print(content)"
   ]
  },
  {
   "cell_type": "code",
   "execution_count": 4,
   "metadata": {},
   "outputs": [
    {
     "name": "stdout",
     "output_type": "stream",
     "text": [
      "File \"././src/llm/model/chat_model.py\", line 20:         base_url=\"https://search.bytedance.net/gpt/openapi/online/v2/crawl/openai/deployments\",\n",
      "\n",
      "File \"././src/workspace/search/search_in_folders.py\", line 5: from src.workspace.search.search_in_file import FileSearchResult, search_in_file\n",
      "File \"././src/workspace/search/search_in_folders.py\", line 8: def search_in_folders(\n",
      "File \"././src/workspace/search/search_in_folders.py\", line 13: ) -> list[FileSearchResult]:\n",
      "File \"././src/workspace/search/search_in_folders.py\", line 22:     results: list[FileSearchResult] = []\n",
      "File \"././src/workspace/search/search_in_folders.py\", line 25:         return any(regex.search(file_name) for regex in file_extension_regex)\n",
      "File \"././src/workspace/search/search_in_folders.py\", line 30:     def search_in_folder_recursive(folder: str):\n",
      "File \"././src/workspace/search/search_in_folders.py\", line 31:         \"\"\"Recursively search for matching files in the folder.\"\"\"\n",
      "File \"././src/workspace/search/search_in_folders.py\", line 45:                 # Recursively search in subdirectories\n",
      "File \"././src/workspace/search/search_in_folders.py\", line 46:                 search_in_folder_recursive(full_path)\n",
      "File \"././src/workspace/search/search_in_folders.py\", line 48:                 # Search in files\n",
      "File \"././src/workspace/search/search_in_folders.py\", line 49:                 result = search_in_file(query, full_path)\n",
      "File \"././src/workspace/search/search_in_folders.py\", line 53:     # Search in each folder\n",
      "File \"././src/workspace/search/search_in_folders.py\", line 56:             search_in_folder_recursive(folder)\n",
      "\n",
      "File \"././src/workspace/search/__init__.py\", line 1: from .search_in_file import FileSearchResult, FileSearchResultLine, search_in_file\n",
      "File \"././src/workspace/search/__init__.py\", line 2: from .search_in_folders import search_in_folders\n",
      "File \"././src/workspace/search/__init__.py\", line 5:     \"FileSearchResult\",\n",
      "File \"././src/workspace/search/__init__.py\", line 6:     \"FileSearchResultLine\",\n",
      "File \"././src/workspace/search/__init__.py\", line 7:     \"search_in_file\",\n",
      "File \"././src/workspace/search/__init__.py\", line 8:     \"search_in_folders\",\n",
      "\n",
      "File \"././src/workspace/search/search_in_file.py\", line 6: class FileSearchResultLine(BaseModel):\n",
      "File \"././src/workspace/search/search_in_file.py\", line 11: class FileSearchResult(BaseModel):\n",
      "File \"././src/workspace/search/search_in_file.py\", line 13:     lines: list[FileSearchResultLine]\n",
      "File \"././src/workspace/search/search_in_file.py\", line 16: def search_in_file(query: str | re.Pattern, file: str) -> FileSearchResult | None:\n",
      "File \"././src/workspace/search/search_in_file.py\", line 32:             match = query.search(line)\n",
      "File \"././src/workspace/search/search_in_file.py\", line 36:                 FileSearchResultLine(line_number=i + 1, context=line.rstrip())\n",
      "File \"././src/workspace/search/search_in_file.py\", line 40:         return FileSearchResult(file_path=file, lines=result_lines)\n",
      "\n",
      "File \"././src/workspace/project/project.py\", line 12: from src.workspace.search import search_in_file, search_in_folders\n",
      "File \"././src/workspace/project/project.py\", line 37:     def search_in_folders(\n",
      "File \"././src/workspace/project/project.py\", line 43:         results = search_in_folders(\n",
      "File \"././src/workspace/project/project.py\", line 50:             return \"No search result found\"\n",
      "File \"././src/workspace/project/project.py\", line 58:     def search_in_file(self, keyword: str, file: str) -> str:\n",
      "File \"././src/workspace/project/project.py\", line 59:         result = search_in_file(keyword, self.map_path(file))\n",
      "File \"././src/workspace/project/project.py\", line 61:             return \"No search result found\"\n",
      "\n",
      "File \"././src/agentic/tools/__init__.py\", line 6:     search_in_file,\n",
      "File \"././src/agentic/tools/__init__.py\", line 7:     search_in_folders,\n",
      "File \"././src/agentic/tools/__init__.py\", line 19:     \"search_in_file\",\n",
      "File \"././src/agentic/tools/__init__.py\", line 20:     \"search_in_folders\",\n",
      "\n",
      "File \"././src/agentic/tools/project_tools.py\", line 29: def search_in_folders(\n",
      "File \"././src/agentic/tools/project_tools.py\", line 36:     Search keyword in specific folders.\n",
      "File \"././src/agentic/tools/project_tools.py\", line 39:         keyword: The keyword to search for. e.g. \"abc def\" means search for exact match of \"abc def\"\n",
      "File \"././src/agentic/tools/project_tools.py\", line 40:         folders: The folders to search in. e.g. [\"./src\", \"./tests\"]\n",
      "File \"././src/agentic/tools/project_tools.py\", line 41:         file_extensions: The file extensions to search in. e.g. [\"py\", \"md\"]\n",
      "File \"././src/agentic/tools/project_tools.py\", line 43:     return state.project.search_in_folders(keyword, folders, file_extensions)\n",
      "File \"././src/agentic/tools/project_tools.py\", line 47: def search_in_file(\n",
      "File \"././src/agentic/tools/project_tools.py\", line 51:     Search keyword in a specific file.\n",
      "File \"././src/agentic/tools/project_tools.py\", line 54:         keyword: The keyword to search for. e.g. \"abc def\" means search for exact match of \"abc def\"\n",
      "File \"././src/agentic/tools/project_tools.py\", line 57:     return state.project.search_in_file(keyword, file)\n",
      "\n",
      "File \"././src/agentic/agents/researcher.py\", line 12:     search_in_file,\n",
      "File \"././src/agentic/agents/researcher.py\", line 13:     search_in_folders,\n",
      "File \"././src/agentic/agents/researcher.py\", line 19: def create_researcher():\n",
      "File \"././src/agentic/agents/researcher.py\", line 21:     prompt = apply_prompt_template(\"researcher\")\n",
      "File \"././src/agentic/agents/researcher.py\", line 30:         search_in_file,\n",
      "File \"././src/agentic/agents/researcher.py\", line 31:         search_in_folders,\n",
      "File \"././src/agentic/agents/researcher.py\", line 34:         name=\"researcher\",\n",
      "File \"././src/agentic/agents/researcher.py\", line 43: researcher = create_researcher()\n",
      "\n",
      "\n"
     ]
    }
   ],
   "source": [
    "search_result = project.search_in_folders(\n",
    "    \"search\",\n",
    "    [\"./src\"],\n",
    "    [\"py\"],\n",
    ")\n",
    "print(search_result)"
   ]
  },
  {
   "cell_type": "code",
   "execution_count": 7,
   "metadata": {},
   "outputs": [
    {
     "name": "stdout",
     "output_type": "stream",
     "text": [
      "Class: Project, line_range=[15, 76]\n",
      "  Method: map_path, line_range=[20, 21]\n",
      "  Method: rel_path, line_range=[23, 26]\n",
      "  Method: file_tree, line_range=[28, 29]\n",
      "  Method: file_outline, line_range=[31, 35]\n",
      "  Method: search_in_folders, line_range=[37, 56]\n",
      "  Method: search_in_file, line_range=[58, 65]\n",
      "  Method: read_lines, line_range=[67, 71]\n",
      "  Method: ignore_rules, line_range=[73, 76]\n"
     ]
    }
   ],
   "source": [
    "outline = project.file_outline(\"./src/workspace/project/project.py\")\n",
    "print(outline)"
   ]
  },
  {
   "cell_type": "code",
   "execution_count": 10,
   "metadata": {},
   "outputs": [
    {
     "name": "stdout",
     "output_type": "stream",
     "text": [
      "['import os\\n', '\\n', 'from openai import BaseModel\\n', '\\n', 'from src.workspace.code import code_outline\\n', 'from src.workspace.fs import (\\n', '    IgnoreRule,\\n', '    file_tree,\\n', '    ignore_rules_from_gitignore_files,\\n', '    read_lines,\\n', ')\\n', 'from src.workspace.search import search_in_file, search_in_folders\\n', '\\n', '\\n', 'class Project(BaseModel):\\n', '    work_dir: str\\n', '\\n', '    _ignore_rules: list[IgnoreRule] | None = None\\n', '\\n', '    def map_path(self, path: str) -> str:\\n', '        return os.path.join(self.work_dir, path)\\n', '\\n', '    def rel_path(self, path: str) -> str:\\n', '        if path.startswith(self.work_dir):\\n', '            return path.replace(self.work_dir, \".\")\\n', '        return path\\n', '\\n', '    def file_tree(self) -> str:\\n', '        return file_tree(self.work_dir, ignore_rules=self.ignore_rules())\\n', '\\n', '    def file_outline(self, path: str) -> str:\\n', '        if path.endswith(\".py\"):\\n', '            return code_outline(self.map_path(path))\\n', '        else:\\n', '            raise ValueError(f\"Unsupported code file extension: {path}\")\\n', '\\n', '    def search_in_folders(\\n', '        self,\\n', '        keyword: str,\\n', '        folders: list[str],\\n', '        file_extensions: list[str],\\n', '    ) -> str:\\n', '        results = search_in_folders(\\n', '            keyword,\\n', '            [self.map_path(folder) for folder in folders],\\n', '            file_extensions,\\n', '            self.ignore_rules(),\\n', '        )\\n', '        if len(results) == 0:\\n', '            return \"No search result found\"\\n', '        result_str = \"\"\\n', '        for result in results:\\n', '            for line in result.lines:\\n', '                result_str += f\\'File \"{self.rel_path(result.file_path)}\", line {line.line_number}: {line.context}\\\\n\\'\\n', '            result_str += \"\\\\n\"\\n', '        return result_str\\n', '\\n', '    def search_in_file(self, keyword: str, file: str) -> str:\\n', '        result = search_in_file(keyword, self.map_path(file))\\n', '        if result is None:\\n', '            return \"No search result found\"\\n', '        result_str = \"\"\\n', '        for line in result.lines:\\n', '            result_str += f\"Line {line.line_number}: {line.context}\\\\n\"\\n', '        return result_str\\n', '\\n', '    def read_lines(\\n', '        self,\\n', '        path: str,\\n', '    ) -> list[str]:\\n', '        return read_lines(self.map_path(path))\\n', '\\n', '    def ignore_rules(self) -> list[IgnoreRule]:\\n', '        if self._ignore_rules is None:\\n', '            self._ignore_rules = [ignore_rules_from_gitignore_files(self.work_dir)]\\n', '        return self._ignore_rules\\n']\n"
     ]
    }
   ],
   "source": [
    "content = project.read_lines(\"./src/workspace/project/project.py\")\n",
    "print(content)"
   ]
  },
  {
   "cell_type": "code",
   "execution_count": 25,
   "metadata": {},
   "outputs": [
    {
     "name": "stdout",
     "output_type": "stream",
     "text": [
      "{\n",
      "  \"messages\": [\n",
      "    {\n",
      "      \"content\": \"langmanus/\\n├── .env.example\\n├── .github/\\n│   ├── ISSUE_TEMPLATE/\\n│   │   ├── bug_report.md\\n│   │   └── feature_request.md\\n│   └── workflows/\\n│       ├── build.yml\\n│       ├── lint.yml\\n│       └── test.yml\\n├── .gitignore\\n├── .python-version\\n├── CONTRIBUTING.md\\n├── Dockerfile\\n├── LICENSE\\n├── Makefile\\n├── README.md\\n├── README_ja.md\\n├── README_zh.md\\n├── assets/\\n│   ├── architecture.png\\n│   ├── demo.gif\\n│   └── wechat_community.jpg\\n├── conf.yaml.example\\n├── docker-compose.yml\\n├── docs/\\n│   ├── FAQ.md\\n│   └── FAQ_zh.md\\n├── main.py\\n├── pre-commit\\n├── pyproject.toml\\n├── server.py\\n├── src/\\n│   ├── __init__.py\\n│   ├── agents/\\n│   │   ├── __init__.py\\n│   │   └── agents.py\\n│   ├── api/\\n│   │   ├── __init__.py\\n│   │   └── app.py\\n│   ├── config/\\n│   │   ├── __init__.py\\n│   │   ├── agents.py\\n│   │   ├── env.py\\n│   │   ├── loader.py\\n│   │   └── tools.py\\n│   ├── constants.py\\n│   ├── crawler/\\n│   │   ├── __init__.py\\n│   │   ├── article.py\\n│   │   ├── crawler.py\\n│   │   ├── jina_client.py\\n│   │   └── readability_extractor.py\\n│   ├── graph/\\n│   │   ├── __init__.py\\n│   │   ├── builder.py\\n│   │   ├── nodes.py\\n│   │   └── types.py\\n│   ├── llms/\\n│   │   ├── __init__.py\\n│   │   ├── litellm_v2.py\\n│   │   └── llm.py\\n│   ├── prompts/\\n│   │   ├── __init__.py\\n│   │   ├── browser.md\\n│   │   ├── coder.md\\n│   │   ├── coordinator.md\\n│   │   ├── file_manager.md\\n│   │   ├── planner.md\\n│   │   ├── reporter.md\\n│   │   ├── researcher.md\\n│   │   ├── supervisor.md\\n│   │   └── template.py\\n│   ├── service/\\n│   │   ├── __init__.py\\n│   │   └── workflow_service.py\\n│   ├── tools/\\n│   │   ├── __init__.py\\n│   │   ├── bash_tool.py\\n│   │   ├── browser.py\\n│   │   ├── crawl.py\\n│   │   ├── decorators.py\\n│   │   ├── file_management.py\\n│   │   ├── python_repl.py\\n│   │   └── search.py\\n│   ├── utils/\\n│   │   ├── __init__.py\\n│   │   └── json_utils.py\\n│   └── workflow.py\\n├── static/\\n│   └── browser_history/\\n│       └── README.md\\n├── tests/\\n│   └── integration/\\n│       ├── test_bash_tool.py\\n│       ├── test_config.py\\n│       ├── test_crawler.py\\n│       ├── test_python_repl_tool.py\\n│       ├── test_team_config.py\\n│       ├── test_template.py\\n│       └── test_workflow.py\\n└── uv.lock\",\n",
      "      \"additional_kwargs\": {},\n",
      "      \"response_metadata\": {},\n",
      "      \"type\": \"human\",\n",
      "      \"name\": null,\n",
      "      \"id\": \"file_tree\"\n",
      "    },\n",
      "    {\n",
      "      \"content\": \"# Notepad\\n\\n(empty)\\n\\n> Should call the `add_note` tool immediately to add your first note.\",\n",
      "      \"additional_kwargs\": {},\n",
      "      \"response_metadata\": {},\n",
      "      \"type\": \"human\",\n",
      "      \"name\": null,\n",
      "      \"id\": \"notepad\"\n",
      "    },\n",
      "    {\n",
      "      \"content\": \"# Todo List\\n\\n\\n(empty)\\n\\n> Should call the `add_todo` tool immediately to add Todo items as a your first plan.\\n> Never ever forget to call the `mark_todo_as_done()` tool to update the status.\\n> Always call the `add_todo()` tool to update the plan before you start working on it.\",\n",
      "      \"additional_kwargs\": {},\n",
      "      \"response_metadata\": {},\n",
      "      \"type\": \"human\",\n",
      "      \"name\": null,\n",
      "      \"id\": \"todo_list\"\n",
      "    },\n",
      "    {\n",
      "      \"content\": \"这个项目是如何对外进行 HTTP 服务的？请求如何进入到 Graph 里的？\",\n",
      "      \"additional_kwargs\": {},\n",
      "      \"response_metadata\": {},\n",
      "      \"type\": \"human\",\n",
      "      \"name\": null,\n",
      "      \"id\": null\n",
      "    }\n",
      "  ],\n",
      "  \"remaining_steps\": 200,\n",
      "  \"project\": {\n",
      "    \"work_dir\": \"/Users/henry/workspaces/langmanus/langmanus\"\n",
      "  },\n",
      "  \"file_tree\": \"langmanus/\\n├── .env.example\\n├── .github/\\n│   ├── ISSUE_TEMPLATE/\\n│   │   ├── bug_report.md\\n│   │   └── feature_request.md\\n│   └── workflows/\\n│       ├── build.yml\\n│       ├── lint.yml\\n│       └── test.yml\\n├── .gitignore\\n├── .python-version\\n├── CONTRIBUTING.md\\n├── Dockerfile\\n├── LICENSE\\n├── Makefile\\n├── README.md\\n├── README_ja.md\\n├── README_zh.md\\n├── assets/\\n│   ├── architecture.png\\n│   ├── demo.gif\\n│   └── wechat_community.jpg\\n├── conf.yaml.example\\n├── docker-compose.yml\\n├── docs/\\n│   ├── FAQ.md\\n│   └── FAQ_zh.md\\n├── main.py\\n├── pre-commit\\n├── pyproject.toml\\n├── server.py\\n├── src/\\n│   ├── __init__.py\\n│   ├── agents/\\n│   │   ├── __init__.py\\n│   │   └── agents.py\\n│   ├── api/\\n│   │   ├── __init__.py\\n│   │   └── app.py\\n│   ├── config/\\n│   │   ├── __init__.py\\n│   │   ├── agents.py\\n│   │   ├── env.py\\n│   │   ├── loader.py\\n│   │   └── tools.py\\n│   ├── constants.py\\n│   ├── crawler/\\n│   │   ├── __init__.py\\n│   │   ├── article.py\\n│   │   ├── crawler.py\\n│   │   ├── jina_client.py\\n│   │   └── readability_extractor.py\\n│   ├── graph/\\n│   │   ├── __init__.py\\n│   │   ├── builder.py\\n│   │   ├── nodes.py\\n│   │   └── types.py\\n│   ├── llms/\\n│   │   ├── __init__.py\\n│   │   ├── litellm_v2.py\\n│   │   └── llm.py\\n│   ├── prompts/\\n│   │   ├── __init__.py\\n│   │   ├── browser.md\\n│   │   ├── coder.md\\n│   │   ├── coordinator.md\\n│   │   ├── file_manager.md\\n│   │   ├── planner.md\\n│   │   ├── reporter.md\\n│   │   ├── researcher.md\\n│   │   ├── supervisor.md\\n│   │   └── template.py\\n│   ├── service/\\n│   │   ├── __init__.py\\n│   │   └── workflow_service.py\\n│   ├── tools/\\n│   │   ├── __init__.py\\n│   │   ├── bash_tool.py\\n│   │   ├── browser.py\\n│   │   ├── crawl.py\\n│   │   ├── decorators.py\\n│   │   ├── file_management.py\\n│   │   ├── python_repl.py\\n│   │   └── search.py\\n│   ├── utils/\\n│   │   ├── __init__.py\\n│   │   └── json_utils.py\\n│   └── workflow.py\\n├── static/\\n│   └── browser_history/\\n│       └── README.md\\n├── tests/\\n│   └── integration/\\n│       ├── test_bash_tool.py\\n│       ├── test_config.py\\n│       ├── test_crawler.py\\n│       ├── test_python_repl_tool.py\\n│       ├── test_team_config.py\\n│       ├── test_template.py\\n│       └── test_workflow.py\\n└── uv.lock\",\n",
      "  \"todo_list\": {\n",
      "    \"items\": [],\n",
      "    \"id_counter\": 0\n",
      "  },\n",
      "  \"notepad\": {\n",
      "    \"notes\": []\n",
      "  }\n",
      "}\n"
     ]
    }
   ],
   "source": [
    "from langchain.schema import HumanMessage\n",
    "\n",
    "from src.workspace import Project\n",
    "from src.agentic.agents.state import create_initial_state\n",
    "\n",
    "\n",
    "project = Project(work_dir=\"/Users/henry/workspaces/langmanus/langmanus\")\n",
    "\n",
    "state = create_initial_state(project)\n",
    "state.messages.append(HumanMessage(content=\"这个项目对外暴露了哪些接口？\"))\n",
    "print(state.model_dump_json(indent=2))"
   ]
  }
 ],
 "metadata": {
  "kernelspec": {
   "display_name": ".venv",
   "language": "python",
   "name": "python3"
  },
  "language_info": {
   "codemirror_mode": {
    "name": "ipython",
    "version": 3
   },
   "file_extension": ".py",
   "mimetype": "text/x-python",
   "name": "python",
   "nbconvert_exporter": "python",
   "pygments_lexer": "ipython3",
   "version": "3.12.4"
  }
 },
 "nbformat": 4,
 "nbformat_minor": 2
}
