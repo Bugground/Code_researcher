{
 "cells": [
  {
   "cell_type": "code",
   "execution_count": 1,
   "metadata": {},
   "outputs": [
    {
     "name": "stdout",
     "output_type": "stream",
     "text": [
      "code-play/\n",
      "├── .gitignore\n",
      "├── .python-version\n",
      "├── Makefile\n",
      "├── README.md\n",
      "├── langgraph.json\n",
      "├── main.py\n",
      "├── playground.ipynb\n",
      "├── pyproject.toml\n",
      "├── src/\n",
      "│   ├── agentic_system/\n",
      "│   │   ├── agents/\n",
      "│   │   │   └── researcher.py\n",
      "│   │   ├── models/\n",
      "│   │   │   ├── __init__.py\n",
      "│   │   │   └── chat_model.py\n",
      "│   │   └── tools/\n",
      "│   │       ├── __init__.py\n",
      "│   │       └── create_tools.py\n",
      "│   └── core/\n",
      "│       ├── code/\n",
      "│       │   ├── __init__.py\n",
      "│       │   └── code_outline.py\n",
      "│       ├── fs/\n",
      "│       │   ├── __init__.py\n",
      "│       │   ├── file_tree.py\n",
      "│       │   ├── ignore_rules.py\n",
      "│       │   └── read_file.py\n",
      "│       ├── project.py\n",
      "│       └── search/\n",
      "│           ├── __init__.py\n",
      "│           ├── search_in_file.py\n",
      "│           └── search_in_folders.py\n",
      "└── uv.lock\n"
     ]
    }
   ],
   "source": [
    "from src.core.project import Project\n",
    "\n",
    "project = Project(\"/Users/henry/Desktop/code-play\")\n",
    "print(project.file_tree())"
   ]
  },
  {
   "cell_type": "code",
   "execution_count": null,
   "metadata": {},
   "outputs": [],
   "source": [
    "content = project.search_in_file(\"search\", \"src/core/workspace.py\")\n",
    "print(content)"
   ]
  },
  {
   "cell_type": "code",
   "execution_count": null,
   "metadata": {},
   "outputs": [],
   "source": [
    "search_result = project.search_in_folders(\n",
    "    \"search\",\n",
    "    [\"./src\"],\n",
    "    [\"py\"],\n",
    ")\n",
    "print(search_result)"
   ]
  },
  {
   "cell_type": "code",
   "execution_count": null,
   "metadata": {},
   "outputs": [],
   "source": [
    "outline = project.file_outline(\"./src/core/project.py\")\n",
    "print(outline)"
   ]
  },
  {
   "cell_type": "code",
   "execution_count": null,
   "metadata": {},
   "outputs": [],
   "source": [
    "content = project.read_file(\"./src/core/workspace.py\", [58, 65])\n",
    "print(content)"
   ]
  },
  {
   "cell_type": "code",
   "execution_count": 4,
   "metadata": {},
   "outputs": [
    {
     "name": "stdout",
     "output_type": "stream",
     "text": [
      "{\n",
      "  \"content\": \"\",\n",
      "  \"additional_kwargs\": {\n",
      "    \"tool_calls\": [\n",
      "      {\n",
      "        \"id\": \"call_cIG8Cv6pk01Y0fYgx2GAU2h8\",\n",
      "        \"function\": {\n",
      "          \"arguments\": \"{\\\"path\\\":\\\"src/workspace/project.py\\\",\\\"from_line\\\":1,\\\"to_line\\\":10}\",\n",
      "          \"name\": \"read_file\"\n",
      "        },\n",
      "        \"type\": \"function\",\n",
      "        \"index\": 0\n",
      "      }\n",
      "    ],\n",
      "    \"refusal\": null\n",
      "  },\n",
      "  \"response_metadata\": {\n",
      "    \"token_usage\": {\n",
      "      \"completion_tokens\": 29,\n",
      "      \"prompt_tokens\": 105,\n",
      "      \"total_tokens\": 134,\n",
      "      \"completion_tokens_details\": {\n",
      "        \"accepted_prediction_tokens\": null,\n",
      "        \"audio_tokens\": 0,\n",
      "        \"reasoning_tokens\": 0,\n",
      "        \"rejected_prediction_tokens\": null\n",
      "      },\n",
      "      \"prompt_tokens_details\": {\n",
      "        \"audio_tokens\": 0,\n",
      "        \"cached_tokens\": 0\n",
      "      }\n",
      "    },\n",
      "    \"model_name\": \"gpt-4o-2024-11-20\",\n",
      "    \"system_fingerprint\": \"fp_ee1d74bde0\",\n",
      "    \"id\": \"chatcmpl-Bt7zheCuENPDrTDfZtvAL3XZk2mQQ\",\n",
      "    \"service_tier\": null,\n",
      "    \"finish_reason\": \"tool_calls\",\n",
      "    \"logprobs\": null\n",
      "  },\n",
      "  \"type\": \"ai\",\n",
      "  \"name\": null,\n",
      "  \"id\": \"run--bfacdf04-bdc3-4be7-aac9-8c92421601e9-0\",\n",
      "  \"example\": false,\n",
      "  \"tool_calls\": [\n",
      "    {\n",
      "      \"name\": \"read_file\",\n",
      "      \"args\": {\n",
      "        \"path\": \"src/workspace/project.py\",\n",
      "        \"from_line\": 1,\n",
      "        \"to_line\": 10\n",
      "      },\n",
      "      \"id\": \"call_cIG8Cv6pk01Y0fYgx2GAU2h8\",\n",
      "      \"type\": \"tool_call\"\n",
      "    }\n",
      "  ],\n",
      "  \"invalid_tool_calls\": [],\n",
      "  \"usage_metadata\": {\n",
      "    \"input_tokens\": 105,\n",
      "    \"output_tokens\": 29,\n",
      "    \"total_tokens\": 134,\n",
      "    \"input_token_details\": {\n",
      "      \"audio\": 0,\n",
      "      \"cache_read\": 0\n",
      "    },\n",
      "    \"output_token_details\": {\n",
      "      \"audio\": 0,\n",
      "      \"reasoning\": 0\n",
      "    }\n",
      "  }\n",
      "}\n"
     ]
    }
   ],
   "source": [
    "from src.agentic_system.models import create_chat_model\n",
    "from src.agentic_system.tools import create_tools_for_project\n",
    "\n",
    "model = create_chat_model()\n",
    "tools = create_tools_for_project(project)\n",
    "\n",
    "model = model.bind_tools([tools[4]])\n",
    "res = model.invoke(\n",
    "    \"Get the content of `src/workspace/project.py`, only the first 10 lines\"\n",
    ")\n",
    "print(res.model_dump_json(indent=2))"
   ]
  }
 ],
 "metadata": {
  "kernelspec": {
   "display_name": ".venv",
   "language": "python",
   "name": "python3"
  },
  "language_info": {
   "codemirror_mode": {
    "name": "ipython",
    "version": 3
   },
   "file_extension": ".py",
   "mimetype": "text/x-python",
   "name": "python",
   "nbconvert_exporter": "python",
   "pygments_lexer": "ipython3",
   "version": "3.12.4"
  }
 },
 "nbformat": 4,
 "nbformat_minor": 2
}
